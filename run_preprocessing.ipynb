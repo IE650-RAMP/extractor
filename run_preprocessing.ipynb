{
 "cells": [
  {
   "cell_type": "markdown",
   "metadata": {},
   "source": [
    "# Preprocessing PDF - TXT - BAML - JSON\n",
    "\n",
    "This notbook is used to perform the extraction from the module catalogs. \n",
    "\n",
    "**How to use this notebook?**\n",
    "- set up the lists `splits` and `splits_modules`. the first one has the (starting) page numbers where to split the pdf. the second one has either 0 or 1 indecating if split at this index is about a module (1) or not (0)\n",
    "- run `folder = process_pdf(splits, splits_modules, PATH_TO_FILE, CATALOG_ABBREVIATION)`\n",
    "- run all the following cells as they are defined \n",
    "\n",
    "\n",
    "**The progress so far:**\n",
    "\n",
    "- MMDS (wima_wifo/MK_MMDS_2024_2025_14.06.2024) DONE\n",
    "- MMM (bwl/Module_Catalog_Mannheim_Master_in_Management_en) DONE\n",
    "- WIFO (wima_wifo/MK_MSc_Wifo__2024_25_16.10.2024.pdf) NEXT\n",
    "- WIMA (Modulkatalog_Master_Wima_Mathe_2022_23) NEXT"
   ]
  },
  {
   "cell_type": "code",
   "execution_count": 1,
   "metadata": {},
   "outputs": [],
   "source": [
    "%load_ext autoreload\n",
    "%autoreload 2\n",
    "\n",
    "import sys\n",
    "import os\n",
    "import dotenv\n",
    "\n",
    "sys.path.append(os.path.abspath(\"./scripts\"))\n",
    "from scripts import process_pdf, merge_additional_files, process_catalog_overview, process_module_list, merge_json_files, process_module_files\n",
    "\n",
    "import baml_client as client\n",
    "from baml_client import reset_baml_env_vars\n",
    "\n",
    "dotenv.load_dotenv()\n",
    "reset_baml_env_vars(dict(os.environ))"
   ]
  },
  {
   "cell_type": "code",
   "execution_count": null,
   "metadata": {},
   "outputs": [],
   "source": [
    "# EXAMPLE USAGE: extract text with splits\n",
    "# List where to split the PDF. First page is 1, not 0!\n",
    "# MMDS\n",
    "splits = [1, 6, 14, 15, 44, 46, 77, 78, 86, 87, 102, 103, 138, 140]\n",
    "splits_modules = [0, 1, 0, 1, 0, 1, 0, 1, 0, 1, 0, 1, 1, 0]\n",
    "\n",
    "folder = process_pdf(splits, splits_modules, './downloads/wima_wifo/MK_MMDS_2024_2025_14.06.2024.pdf', \"MMDS\")\n",
    "print(folder)\n",
    "\n",
    "# next run the other predefined cells to perform the BAML extraction"
   ]
  },
  {
   "cell_type": "code",
   "execution_count": null,
   "metadata": {},
   "outputs": [],
   "source": [
    "# MMM (BWL)\n",
    "splits = [1, 20, 26, 41, 64, 95, 128, 183, 210, 248, 252, 291]\n",
    "splits_modules = [0, 1, 1, 1, 1, 1, 1, 1, 0, 1, 0]\n",
    "folder = process_pdf(splits, splits_modules, \"./downloads/bwl/Module_Catalog_Mannheim_Master_in_Management_en.pdf\", \"MMM\")"
   ]
  },
  {
   "cell_type": "code",
   "execution_count": 2,
   "metadata": {},
   "outputs": [],
   "source": [
    "# WIFO\n",
    "splits = [1, 6, 21, 25, 51, 75, 76, 81, 83, 120, 121, 123]\n",
    "splits_modules = [0, 1, 0, 1, 1, 0, 1, 0, 1, 0, 1, 0]\n",
    "folder = process_pdf(splits, splits_modules, './downloads/wima_wifo/MK_MSc_Wifo__2024_25_16.10.2024.pdf', 'WIFO')"
   ]
  },
  {
   "cell_type": "code",
   "execution_count": null,
   "metadata": {},
   "outputs": [],
   "source": [
    "# WIMA\n",
    "splits = []\n",
    "splits_modules = []\n",
    "folder = process_pdf(splits, splits_modules, './downloads/wima_wifo/Modulkatalog_Master_Wima_Mathe_2022_23.pdf', 'WIMA')"
   ]
  },
  {
   "cell_type": "code",
   "execution_count": 3,
   "metadata": {},
   "outputs": [
    {
     "name": "stdout",
     "output_type": "stream",
     "text": [
      "All '_additional' files have been merged into output/20241119_001229_WIFO/merged_additional.txt\n"
     ]
    }
   ],
   "source": [
    "# Merge all files that are not related to modules\n",
    "merge_additional_files(folder)"
   ]
  },
  {
   "cell_type": "code",
   "execution_count": 4,
   "metadata": {},
   "outputs": [],
   "source": [
    "# Extract study programm overview from 'addtional' file using BAML\n",
    "process_catalog_overview(folder)"
   ]
  },
  {
   "cell_type": "code",
   "execution_count": 5,
   "metadata": {},
   "outputs": [
    {
     "name": "stdout",
     "output_type": "stream",
     "text": [
      "['split_7_modules.txt', 'split_2_modules.txt', 'split_11_modules.txt', 'split_4_modules.txt', 'split_5_modules.txt', 'split_9_modules.txt']\n"
     ]
    },
    {
     "name": "stderr",
     "output_type": "stream",
     "text": [
      "Processing module files:   0%|          | 0/6 [00:00<?, ?it/s]"
     ]
    },
    {
     "name": "stdout",
     "output_type": "stream",
     "text": [
      "Now processing file: output/20241119_001229_WIFO/split_7_modules.txt\n"
     ]
    },
    {
     "name": "stderr",
     "output_type": "stream",
     "text": [
      "Processing module files:  17%|█▋        | 1/6 [00:15<01:16, 15.25s/it]"
     ]
    },
    {
     "name": "stdout",
     "output_type": "stream",
     "text": [
      "Now processing file: output/20241119_001229_WIFO/split_2_modules.txt\n"
     ]
    },
    {
     "name": "stderr",
     "output_type": "stream",
     "text": [
      "Processing module files:  33%|███▎      | 2/6 [00:38<01:20, 20.19s/it]"
     ]
    },
    {
     "name": "stdout",
     "output_type": "stream",
     "text": [
      "Now processing file: output/20241119_001229_WIFO/split_11_modules.txt\n"
     ]
    },
    {
     "name": "stderr",
     "output_type": "stream",
     "text": [
      "Processing module files:  50%|█████     | 3/6 [00:45<00:41, 13.93s/it]"
     ]
    },
    {
     "name": "stdout",
     "output_type": "stream",
     "text": [
      "Now processing file: output/20241119_001229_WIFO/split_4_modules.txt\n"
     ]
    },
    {
     "name": "stderr",
     "output_type": "stream",
     "text": [
      "Processing module files:  67%|██████▋   | 4/6 [01:48<01:06, 33.24s/it]"
     ]
    },
    {
     "name": "stdout",
     "output_type": "stream",
     "text": [
      "Now processing file: output/20241119_001229_WIFO/split_5_modules.txt\n"
     ]
    },
    {
     "name": "stderr",
     "output_type": "stream",
     "text": [
      "Processing module files:  83%|████████▎ | 5/6 [02:44<00:41, 41.64s/it]"
     ]
    },
    {
     "name": "stdout",
     "output_type": "stream",
     "text": [
      "Now processing file: output/20241119_001229_WIFO/split_9_modules.txt\n"
     ]
    },
    {
     "name": "stderr",
     "output_type": "stream",
     "text": [
      "Processing module files: 100%|██████████| 6/6 [03:15<00:00, 32.65s/it]\n"
     ]
    }
   ],
   "source": [
    "# Extract content from module files using BAML\n",
    "process_module_files(folder)"
   ]
  },
  {
   "cell_type": "code",
   "execution_count": 6,
   "metadata": {},
   "outputs": [
    {
     "name": "stdout",
     "output_type": "stream",
     "text": [
      "Merged JSON file created at: output/20241119_001229_WIFO/merged_modules.json\n"
     ]
    }
   ],
   "source": [
    "# Merge extracted modules to one file\n",
    "merge_json_files(folder)"
   ]
  },
  {
   "cell_type": "markdown",
   "metadata": {},
   "source": [
    "## Other code for manual fixes etc."
   ]
  },
  {
   "cell_type": "code",
   "execution_count": null,
   "metadata": {},
   "outputs": [],
   "source": [
    "folder = './output/20241118_222726_MMDS'\n",
    "file = str(folder) + '/split_2_modules.txt'\n",
    "file"
   ]
  },
  {
   "cell_type": "code",
   "execution_count": null,
   "metadata": {},
   "outputs": [],
   "source": [
    "process_module_list(file)"
   ]
  }
 ],
 "metadata": {
  "kernelspec": {
   "display_name": "module-catalog-extractor-N-kYjEbR-py3.12",
   "language": "python",
   "name": "python3"
  },
  "language_info": {
   "codemirror_mode": {
    "name": "ipython",
    "version": 3
   },
   "file_extension": ".py",
   "mimetype": "text/x-python",
   "name": "python",
   "nbconvert_exporter": "python",
   "pygments_lexer": "ipython3",
   "version": "3.12.4"
  }
 },
 "nbformat": 4,
 "nbformat_minor": 2
}
