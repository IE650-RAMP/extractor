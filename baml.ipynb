{
 "cells": [
  {
   "cell_type": "markdown",
   "metadata": {},
   "source": [
    "For for test its easiest to run BAML with the VS Code Extension!"
   ]
  },
  {
   "cell_type": "code",
   "execution_count": null,
   "metadata": {},
   "outputs": [],
   "source": [
    "%load_ext autoreload\n",
    "%autoreload 2"
   ]
  },
  {
   "cell_type": "code",
   "execution_count": null,
   "metadata": {},
   "outputs": [],
   "source": [
    "# Assuming your baml_client is inside a dir called app/\n",
    "import baml_client as client # you can name this \"llm\" or \"baml\" or whatever you want"
   ]
  },
  {
   "cell_type": "code",
   "execution_count": null,
   "metadata": {},
   "outputs": [],
   "source": [
    "from baml_client import reset_baml_env_vars\n",
    "import os\n",
    "import dotenv\n",
    "\n",
    "dotenv.load_dotenv()\n",
    "reset_baml_env_vars(dict(os.environ))"
   ]
  },
  {
   "cell_type": "code",
   "execution_count": null,
   "metadata": {},
   "outputs": [],
   "source": [
    "with open('./baml_tests/mmds_newest_unstructured.txt', 'r') as file:\n",
    "    text = file.read()\n",
    "    \n",
    "len(text)"
   ]
  },
  {
   "cell_type": "code",
   "execution_count": null,
   "metadata": {},
   "outputs": [],
   "source": [
    "catalog = client.b.ExtractModuleCatalog(text)\n",
    "print(catalog)"
   ]
  },
  {
   "cell_type": "code",
   "execution_count": null,
   "metadata": {},
   "outputs": [],
   "source": [
    "import sys\n",
    "import os\n",
    "sys.path.append(os.path.abspath(\"../baml_client\"))\n",
    "\n",
    "from baml_client.types import ModuleCataloge\n",
    "assert isinstance(catalog, ModuleCataloge)"
   ]
  },
  {
   "cell_type": "code",
   "execution_count": null,
   "metadata": {},
   "outputs": [],
   "source": [
    "import json\n",
    "\n",
    "# Convert the catalog to a dictionary\n",
    "catalog_dict = catalog.model_dump()\n",
    "\n",
    "# Convert the dictionary to a JSON string\n",
    "catalog_json = json.dumps(catalog_dict, indent=4)\n",
    "\n",
    "print(catalog_json)"
   ]
  }
 ],
 "metadata": {
  "kernelspec": {
   "display_name": "module-catalog-extractor-N-kYjEbR-py3.12",
   "language": "python",
   "name": "python3"
  },
  "language_info": {
   "codemirror_mode": {
    "name": "ipython",
    "version": 3
   },
   "file_extension": ".py",
   "mimetype": "text/x-python",
   "name": "python",
   "nbconvert_exporter": "python",
   "pygments_lexer": "ipython3",
   "version": "3.12.4"
  }
 },
 "nbformat": 4,
 "nbformat_minor": 2
}
